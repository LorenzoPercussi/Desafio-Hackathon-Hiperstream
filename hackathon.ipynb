{
 "cells": [
  {
   "cell_type": "code",
   "execution_count": 118,
   "id": "00942808-d35f-4b87-8488-1234b3a1e45a",
   "metadata": {
    "tags": []
   },
   "outputs": [],
   "source": [
    "import csv\n",
    "import re"
   ]
  },
  {
   "cell_type": "code",
   "execution_count": 146,
   "id": "d1ac23d1-238f-4428-bd60-5d0d99f585a6",
   "metadata": {
    "tags": []
   },
   "outputs": [
    {
     "name": "stdout",
     "output_type": "stream",
     "text": [
      "Organized data has been written to organized_data.csv\n"
     ]
    }
   ],
   "source": [
    "data = []\n",
    "with open('base.csv', 'r') as file:\n",
    "    reader = csv.reader(file)\n",
    "    next(reader)  # Skip the header\n",
    "    for row in reader:\n",
    "        labels = row[0].split(';')  # Split by delimiter\n",
    "        row_dict = {'ID': labels[0],\n",
    "                    'Nome': labels[1],\n",
    "                    'PastaOrigem': labels[2],\n",
    "                    'PastaDestino': labels[3],\n",
    "                    'PastaBackup': labels[4]}  # Create dictionary\n",
    "        data.append(row_dict)\n",
    "\n",
    "# Write the organized data to a new CSV file\n",
    "output_file = 'organized_data.csv'\n",
    "with open(output_file, 'w', newline='') as file:\n",
    "    writer = csv.DictWriter(file, fieldnames=['ID', 'Nome', 'PastaOrigem', 'PastaDestino', 'PastaBackup'])\n",
    "    writer.writeheader()  # Write the header\n",
    "    writer.writerows(data)  # Write the data rows\n",
    "\n",
    "print(\"Organized data has been written to\", output_file)\n"
   ]
  },
  {
   "cell_type": "code",
   "execution_count": 148,
   "id": "71c158de-0682-4177-8737-295449112a12",
   "metadata": {
    "tags": []
   },
   "outputs": [
    {
     "name": "stdout",
     "output_type": "stream",
     "text": [
      "E:\\PRODUCAO\\Cliente\\FATURA\\HSJ\\ENTRADA\\\n",
      "E:\\PRODUCAO\\Cliente\\FATURA\\FORMATAR_FATURA\\PRINTNET\\ENTRADA\\\n",
      "E:\\PRODUCAO\\Cliente\\FATURA\\FORMATAR_FATURA\\PRINTNET\\ENTRADA\\\n",
      "E:\\PRODUCAO\\Cliente\\FATURA\\FORMATAR_FATURA\\PRINTNET\\ENTRADA\\\n",
      "E:\\PRODUCAO\\Cliente\\FATURA\\FORMATAR_FATURA\\PRINTNET\\ENTRADA\\\n",
      "E:\\PRODUCAO\\Cliente\\FATURA\\SAIDAS\\PDF_UNICO\\\n",
      "E:\\PRODUCAO\\Cliente\\FATURA\\SAIDAS\\PDF_UNICO\\\n",
      "E:\\PRODUCAO\\Cliente\\FATURA\\ACTION\\ENTRADA\\\n",
      "E:\\PRODUCAO\\Cliente\\FATURA\\INPUTBLOG\\\n",
      "E:\\PRODUCAO\\Cliente\\FATURA\\CARGA_ECM\\\n",
      "E:\\PRODUCAO\\Cliente\\FATURA\\DPREPORT\\DPR_FIM_PROCESSAMENTO\\\n",
      "E:\\PRODUCAO\\Cliente\\FATURA\\FORMATAR_FATURA\\PRINTNET\\ENTRADA\\\n",
      "E:\\PRODUCAO\\Cliente\\FATURA\\FORMATAR_FATURA\\PRINTNET\\ENTRADA_PNET_IEEN\\\n",
      "E:\\PRODUCAO\\Cliente\\FATURA\\FORMATAR_FATURA\\PRINTNET\\ENTRADA_PNET_IEEN\\\n",
      "E:\\PRODUCAO\\Cliente\\FATURA\\MOVERSPOOL\\MOV_ARQGRAFICA\\\n",
      "E:\\PRODUCAO\\Cliente\\FATURA\\FORMATAR_FATURA\\PRINTNET\\ENTRADA_PNET_IEEN\\\n",
      "E:\\PRODUCAO\\Cliente\\FATURA\\SAIDAS\\PDF_UNICO\\\n",
      "E:\\PRODUCAO\\Cliente\\FATURA\\FORMATAR_FATURA\\PRINTNET\\ENTRADA\\\n",
      "E:\\PRODUCAO\\Cliente\\FATURA\\ARMAZEM\\relatorios-regras\n",
      "E:\\PRODUCAO\\Cliente\\FATURA\\START\\\n",
      "E:\\PRODUCAO\\Cliente\\FATURA_2VIA\\HSJ\\ENTRADA\\\n",
      "E:\\PRODUCAO\\Cliente\\FATURA_2VIA\\ACTION\\ENTRADA\\\n",
      "E:\\PRODUCAO\\Cliente\\FATURA_2VIA\\DPREPORT\\DPR_FIMPRCESSAMENTO\\\n",
      "E:\\PRODUCAO\\Cliente\\FATURA_2VIA\\DPREPORT\\DPR_INDEXAR_DADOS_ANALITICO\\\n",
      "E:\\PRODUCAO\\Cliente\\FATURA\\DPREPORT\\DPR_INDEXAR_DADOS_ANALITICO\\\n",
      "\\\\FT002\\PARCEIROS\\Cliente\\PRD\\DOWNLOAD\\\n",
      "E:\\PRODUCAO\\Cliente\\FATURA\\ACTION\\ENTRADA\\\n"
     ]
    }
   ],
   "source": [
    "for row in data:\n",
    "    print(row['PastaOrigem'])"
   ]
  },
  {
   "cell_type": "code",
   "execution_count": 134,
   "id": "c5e8251d-4f53-4cd8-9ccc-8d660afe171c",
   "metadata": {
    "tags": []
   },
   "outputs": [
    {
     "name": "stdout",
     "output_type": "stream",
     "text": [
      "E:\\PRODUCAO\\Cliente\\FATURA\\HSJ\\ENTRADA\\ tem formato valido.\n",
      "E:\\PRODUCAO\\Cliente\\FATURA\\FORMATAR_FATURA\\PRINTNET\\ENTRADA\\ tem formato valido.\n",
      "E:\\PRODUCAO\\Cliente\\FATURA\\FORMATAR_FATURA\\PRINTNET\\ENTRADA\\ tem formato valido.\n",
      "E:\\PRODUCAO\\Cliente\\FATURA\\FORMATAR_FATURA\\PRINTNET\\ENTRADA\\ tem formato valido.\n",
      "E:\\PRODUCAO\\Cliente\\FATURA\\FORMATAR_FATURA\\PRINTNET\\ENTRADA\\ tem formato valido.\n",
      "E:\\PRODUCAO\\Cliente\\FATURA\\SAIDAS\\PDF_UNICO\\ tem formato valido.\n",
      "E:\\PRODUCAO\\Cliente\\FATURA\\SAIDAS\\PDF_UNICO\\ tem formato valido.\n",
      "E:\\PRODUCAO\\Cliente\\FATURA\\ACTION\\ENTRADA\\ tem formato valido.\n",
      "E:\\PRODUCAO\\Cliente\\FATURA\\INPUTBLOG\\ tem formato valido.\n",
      "E:\\PRODUCAO\\Cliente\\FATURA\\CARGA_ECM\\ tem formato valido.\n",
      "E:\\PRODUCAO\\Cliente\\FATURA\\DPREPORT\\DPR_FIM_PROCESSAMENTO\\ tem formato valido.\n",
      "E:\\PRODUCAO\\Cliente\\FATURA\\FORMATAR_FATURA\\PRINTNET\\ENTRADA\\ tem formato valido.\n",
      "E:\\PRODUCAO\\Cliente\\FATURA\\FORMATAR_FATURA\\PRINTNET\\ENTRADA_PNET_IEEN\\ tem formato valido.\n",
      "E:\\PRODUCAO\\Cliente\\FATURA\\FORMATAR_FATURA\\PRINTNET\\ENTRADA_PNET_IEEN\\ tem formato valido.\n",
      "E:\\PRODUCAO\\Cliente\\FATURA\\MOVERSPOOL\\MOV_ARQGRAFICA\\ tem formato valido.\n",
      "E:\\PRODUCAO\\Cliente\\FATURA\\FORMATAR_FATURA\\PRINTNET\\ENTRADA_PNET_IEEN\\ tem formato valido.\n",
      "E:\\PRODUCAO\\Cliente\\FATURA\\SAIDAS\\PDF_UNICO\\ tem formato valido.\n",
      "E:\\PRODUCAO\\Cliente\\FATURA\\FORMATAR_FATURA\\PRINTNET\\ENTRADA\\ tem formato valido.\n",
      "E:\\PRODUCAO\\Cliente\\FATURA\\ARMAZEM\\relatorios-regras tem formato invalido.\n",
      "E:\\PRODUCAO\\Cliente\\FATURA\\START\\ tem formato valido.\n",
      "E:\\PRODUCAO\\Cliente\\FATURA_2VIA\\HSJ\\ENTRADA\\ tem formato valido.\n",
      "E:\\PRODUCAO\\Cliente\\FATURA_2VIA\\ACTION\\ENTRADA\\ tem formato valido.\n",
      "E:\\PRODUCAO\\Cliente\\FATURA_2VIA\\DPREPORT\\DPR_FIMPRCESSAMENTO\\ tem formato valido.\n",
      "E:\\PRODUCAO\\Cliente\\FATURA_2VIA\\DPREPORT\\DPR_INDEXAR_DADOS_ANALITICO\\ tem formato valido.\n",
      "E:\\PRODUCAO\\Cliente\\FATURA\\DPREPORT\\DPR_INDEXAR_DADOS_ANALITICO\\ tem formato valido.\n",
      "\\\\FT002\\PARCEIROS\\Cliente\\PRD\\DOWNLOAD\\ tem formato valido.\n",
      "E:\\PRODUCAO\\Cliente\\FATURA\\ACTION\\ENTRADA\\ tem formato valido.\n"
     ]
    }
   ],
   "source": [
    "\n",
    "def verifica_caminho(dataset):  \n",
    "    pastas_origem = []\n",
    "    padrao = r'^(?:[A-Za-z]:\\\\|\\\\\\\\[^\\\\]+\\\\)(?:\\w+\\\\)+$'\n",
    "    for row in dataset:\n",
    "        pastas_origem.append(row['PastaOrigem'])\n",
    "    for pasta in pastas_origem:\n",
    "        if re.match(padrao, pasta):\n",
    "            print(f\"{pasta} tem formato valido.\")\n",
    "        else:\n",
    "            print(f\"{pasta} tem formato invalido.\")\n",
    "verifica_caminho(data)\n"
   ]
  },
  {
   "cell_type": "code",
   "execution_count": null,
   "id": "d8700f02-4995-4959-98b2-731832a75908",
   "metadata": {},
   "outputs": [],
   "source": []
  },
  {
   "cell_type": "code",
   "execution_count": null,
   "id": "b51b1656-c9b9-4650-9cc7-f36f49ac3956",
   "metadata": {},
   "outputs": [],
   "source": []
  },
  {
   "cell_type": "code",
   "execution_count": null,
   "id": "3c08a517-dbdf-4db0-a9e3-589627bdb085",
   "metadata": {},
   "outputs": [],
   "source": []
  }
 ],
 "metadata": {
  "kernelspec": {
   "display_name": "Python 3 (ipykernel)",
   "language": "python",
   "name": "python3"
  },
  "language_info": {
   "codemirror_mode": {
    "name": "ipython",
    "version": 3
   },
   "file_extension": ".py",
   "mimetype": "text/x-python",
   "name": "python",
   "nbconvert_exporter": "python",
   "pygments_lexer": "ipython3",
   "version": "3.11.7"
  }
 },
 "nbformat": 4,
 "nbformat_minor": 5
}
