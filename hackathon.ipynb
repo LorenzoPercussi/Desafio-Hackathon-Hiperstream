{
 "cells": [
  {
   "cell_type": "code",
   "execution_count": 29,
   "id": "00942808-d35f-4b87-8488-1234b3a1e45a",
   "metadata": {
    "tags": []
   },
   "outputs": [],
   "source": [
    "import csv\n",
    "import re"
   ]
  },
  {
   "cell_type": "code",
   "execution_count": 60,
   "id": "d1ac23d1-238f-4428-bd60-5d0d99f585a6",
   "metadata": {
    "tags": []
   },
   "outputs": [
    {
     "name": "stdout",
     "output_type": "stream",
     "text": [
      "[{'ID': '3036', 'Nome': 'Cliente-FATURA-HSJ', 'PastaOrigem': 'E:\\\\PRODUCAO\\\\Cliente\\\\FATURA\\\\HSJ\\\\ENTRADA\\\\', 'PastaDestino': 'E:\\\\PRODUCAO\\\\BV\\\\FATURA\\\\FORMATAR_FATURA\\\\PRINTNET\\\\ENTRADA\\\\', 'PastaBackup': 'E:\\\\PRODUCAO\\\\Cliente\\\\FATURA\\\\HSJ\\\\ENTRADA\\\\BKP\\\\'}, {'ID': '3037', 'Nome': 'Cliente-FATURA-WFD-EMAIL', 'PastaOrigem': 'E:\\\\PRODUCAO\\\\Cliente\\\\FATURA\\\\FORMATAR_FATURA\\\\PRINTNET\\\\ENTRADA\\\\', 'PastaDestino': '\\\\\\\\HSLAN028-0\\\\SAIDAS_BV_FAT\\\\PDF_UNICO\\\\', 'PastaBackup': 'E:\\\\PRODUCAO\\\\Cliente\\\\FATURA\\\\ACTION\\\\ENTRADA\\\\'}, {'ID': '3036', 'Nome': 'Cliente-FATURA-HSJ', 'PastaOrigem': 'E:\\\\PRODUCAO\\\\Cliente\\\\FATURA\\\\HSJ\\\\ENTRADA\\\\', 'PastaDestino': 'E:\\\\PRODUCAO\\\\BV\\\\FATURA\\\\FORMATAR_FATURA\\\\PRINTNET\\\\ENTRADA\\\\', 'PastaBackup': 'E:\\\\PRODUCAO\\\\Cliente\\\\FATURA\\\\HSJ\\\\ENTRADA\\\\BKP\\\\'}, {'ID': '3039', 'Nome': 'Cliente-FATURA-WFD-ARMAZENAMENTO', 'PastaOrigem': 'E:\\\\PRODUCAO\\\\Cliente\\\\FATURA\\\\FORMATAR_FATURA\\\\PRINTNET\\\\ENTRADA\\\\', 'PastaDestino': '\\\\\\\\HSLAN028-0\\\\SAIDAS_BV_FAT\\\\PDF_UNICO\\\\', 'PastaBackup': 'E:\\\\PRODUCAO\\\\Cliente\\\\FATURA\\\\CARGA_ECM\\\\'}, {'ID': '3040', 'Nome': 'Cliente-FATURA-WFD-ARMAZENAMNTO-ALEATORIO', 'PastaOrigem': 'E:\\\\PRODUCAO\\\\Cliente\\\\FATURA\\\\FORMATAR_FATURA\\\\PRINTNET\\\\ENTRADA\\\\', 'PastaDestino': '\\\\\\\\HSLAN028-0\\\\SAIDAS_BV_FAT\\\\ALEATORIOS\\\\', 'PastaBackup': 'E:\\\\PRODUCAO\\\\Cliente\\\\FATURA\\\\INPUTBLOG\\\\'}, {'ID': '3041', 'Nome': 'Cliente-FATURA-QUEBRAPDF-EMAIL', 'PastaOrigem': 'E:\\\\PRODUCAO\\\\Cliente\\\\FATURA\\\\SAIDAS\\\\PDF_UNICO\\\\', 'PastaDestino': 'E:\\\\PRODUCAO\\\\BV\\\\FATURA\\\\SAIDAS\\\\ECM\\\\', 'PastaBackup': 'E:\\\\PRODUCAO\\\\Cliente\\\\FATURA\\\\ACTION\\\\ENTRADA\\\\'}, {'ID': '3042', 'Nome': 'Cliente-FATURA-QUEBRAPDF-ARMAZENAMENTO', 'PastaOrigem': 'E:\\\\PRODUCAO\\\\Cliente\\\\FATURA\\\\SAIDAS\\\\PDF_UNICO\\\\', 'PastaDestino': 'E:\\\\PRODUCAO\\\\BV\\\\FATURA\\\\SAIDAS\\\\ECM\\\\', 'PastaBackup': 'E:\\\\PRODUCAO\\\\Cliente\\\\FATURA\\\\CARGA_ECM\\\\'}, {'ID': '3043', 'Nome': 'Cliente-FATURA-ACTION-EMAIL 1a VIA', 'PastaOrigem': 'E:\\\\PRODUCAO\\\\Cliente\\\\FATURA\\\\ACTION\\\\ENTRADA\\\\', 'PastaDestino': ' ', 'PastaBackup': 'E:\\\\PRODUCAO\\\\Cliente\\\\FATURA\\\\CARGA_ECM\\\\'}, {'ID': '3044', 'Nome': 'Cliente-FATURA-INPUBLOG-DIGITAL', 'PastaOrigem': 'E:\\\\PRODUCAO\\\\Cliente\\\\FATURA\\\\INPUTBLOG\\\\', 'PastaDestino': 'E:\\\\PRODUCAO\\\\BV\\\\FATURA\\\\SAIDAS\\\\ALEATORIOS\\\\', 'PastaBackup': 'E:\\\\PRODUCAO\\\\Cliente\\\\FATURA\\\\PROCESSADOS\\\\'}, {'ID': '3045', 'Nome': 'Cliente-FATURA-CARGAECM-DIGITAL', 'PastaOrigem': 'E:\\\\PRODUCAO\\\\Cliente\\\\FATURA\\\\CARGA_ECM\\\\', 'PastaDestino': 'E:\\\\APLICATIVO\\\\BV\\\\FATURA\\\\ECM_LOAD\\\\Configs\\\\', 'PastaBackup': 'E:\\\\PRODUCAO\\\\Cliente\\\\FATURA\\\\DPREPORT\\\\DPR_FIM_PROCESSAMENTO\\\\'}, {'ID': '3046', 'Nome': 'Cliente-FATURA-DPREPORT-FIMPROCESSO', 'PastaOrigem': 'E:\\\\PRODUCAO\\\\Cliente\\\\FATURA\\\\DPREPORT\\\\DPR_FIM_PROCESSAMENTO\\\\', 'PastaDestino': '', 'PastaBackup': 'E:\\\\PRODUCAO\\\\Cliente\\\\FATURA\\\\DPREPORT\\\\DPR_FIM_PROCESSAMENTO\\\\'}, {'ID': '3048', 'Nome': 'Cliente-FATURA-WFD-IMPRESSO-ALEATORIO', 'PastaOrigem': 'E:\\\\PRODUCAO\\\\Cliente\\\\FATURA\\\\FORMATAR_FATURA\\\\PRINTNET\\\\ENTRADA\\\\', 'PastaDestino': '\\\\\\\\HSLAN028-0\\\\SAIDAS_BV_FAT\\\\ALEATORIOS\\\\', 'PastaBackup': 'E:\\\\PRODUCAO\\\\Cliente\\\\FATURA\\\\INPUTBLOG\\\\'}, {'ID': '3049', 'Nome': 'Cliente-FATURA-WFD-IEEN', 'PastaOrigem': 'E:\\\\PRODUCAO\\\\Cliente\\\\FATURA\\\\FORMATAR_FATURA\\\\PRINTNET\\\\ENTRADA_PNET_IEEN\\\\', 'PastaDestino': '\\\\\\\\HSLAN028-0\\\\SAIDAS_BV_FAT\\\\PDF_UNICO\\\\', 'PastaBackup': 'E:\\\\PRODUCAO\\\\Cliente\\\\FATURA\\\\ACTION\\\\ENTRADA\\\\'}, {'ID': '3050', 'Nome': 'Cliente-FATURA-WFD-IMPRESSO-ECM', 'PastaOrigem': 'E:\\\\PRODUCAO\\\\Cliente\\\\FATURA\\\\FORMATAR_FATURA\\\\PRINTNET\\\\ENTRADA_PNET_IEEN\\\\', 'PastaDestino': '\\\\\\\\HSLAN028-0\\\\SAIDAS_BV_FAT\\\\PDF_UNICO\\\\', 'PastaBackup': 'E:\\\\PRODUCAO\\\\Cliente\\\\FATURA\\\\CARGA_ECM\\\\'}, {'ID': '3051', 'Nome': 'Cliente-FATURA-MOVERSPOOL-GRAFICA', 'PastaOrigem': 'E:\\\\PRODUCAO\\\\Cliente\\\\FATURA\\\\MOVERSPOOL\\\\MOV_ARQGRAFICA\\\\', 'PastaDestino': '\\\\\\\\ft001\\\\VALID\\\\BV\\\\PRD\\\\upload\\\\', 'PastaBackup': 'E:\\\\PRODUCAO\\\\Cliente\\\\FATURA\\\\FORMATAR_FATURA\\\\PRINTNET\\\\ENTRADA_PNET_IEEN\\\\'}, {'ID': '3052', 'Nome': 'Cliente-FATURA-MOVERSPOOL-ARQ. IMPI', 'PastaOrigem': 'E:\\\\PRODUCAO\\\\Cliente\\\\FATURA\\\\FORMATAR_FATURA\\\\PRINTNET\\\\ENTRADA_PNET_IEEN\\\\', 'PastaDestino': '', 'PastaBackup': 'E:\\\\PRODUCAO\\\\Cliente\\\\FATURA\\\\FORMATAR_FATURA\\\\PRINTNET\\\\ENTRADA_PNET_IMPI_ECM\\\\'}, {'ID': '3053', 'Nome': 'Cliente-FATURA-QUEBRAPDF-IMPRESSO', 'PastaOrigem': 'E:\\\\PRODUCAO\\\\Cliente\\\\FATURA\\\\SAIDAS\\\\PDF_UNICO\\\\', 'PastaDestino': 'E:\\\\PRODUCAO\\\\BV\\\\FATURA\\\\SAIDAS\\\\ECM\\\\', 'PastaBackup': 'E:\\\\PRODUCAO\\\\Cliente\\\\FATURA\\\\CARGA_ECM\\\\'}, {'ID': '3054', 'Nome': 'Cliente-FATURA-MOVERSPOOL-ARQ.-EXCLUSAO', 'PastaOrigem': 'E:\\\\PRODUCAO\\\\Cliente\\\\FATURA\\\\FORMATAR_FATURA\\\\PRINTNET\\\\ENTRADA\\\\', 'PastaDestino': '', 'PastaBackup': 'E:\\\\PRODUCAO\\\\Cliente\\\\FATURA\\\\DPREPORT\\\\DPR_FIM_PROCESSAMENTO\\\\'}, {'ID': '3056', 'Nome': 'Cliente-FATURA-MOVERSPOOL-ARQ.-CSV-DVA', 'PastaOrigem': 'E:\\\\PRODUCAO\\\\Cliente\\\\FATURA\\\\ARMAZEM\\\\relatorios-regras', 'PastaDestino': '', 'PastaBackup': 'E:\\\\PRODUCAO\\\\Cliente\\\\FATURA\\\\ARMAZEM\\\\'}, {'ID': '3057', 'Nome': 'Cliente-FATURA-START', 'PastaOrigem': 'E:\\\\PRODUCAO\\\\Cliente\\\\FATURA\\\\START\\\\', 'PastaDestino': 'E:\\\\PRODUCAO\\\\BV\\\\FATURA\\\\FORMATAR_FATURA\\\\PRINTNET\\\\ENTRADA\\\\', 'PastaBackup': 'E:\\\\PRODUCAO\\\\Cliente\\\\FATURA\\\\START\\\\BKP\\\\'}, {'ID': '3058', 'Nome': 'Cliente-FATURA-2VIA-HSJ', 'PastaOrigem': 'E:\\\\PRODUCAO\\\\Cliente\\\\FATURA_2VIA\\\\HSJ\\\\ENTRADA\\\\', 'PastaDestino': 'E:\\\\PRODUCAO\\\\BV\\\\FATURA_2VIA\\\\ACTION\\\\ENTRADA\\\\', 'PastaBackup': 'E:\\\\PRODUCAO\\\\Cliente\\\\FATURA_2VIA\\\\HSJ\\\\ENTRADA\\\\BKP\\\\'}, {'ID': '3059', 'Nome': 'Cliente-FATURA-2VIA-ACTION-EMAIL', 'PastaOrigem': 'E:\\\\PRODUCAO\\\\Cliente\\\\FATURA_2VIA\\\\ACTION\\\\ENTRADA\\\\', 'PastaDestino': ' ', 'PastaBackup': 'E:\\\\PRODUCAO\\\\Cliente\\\\FATURA_2VIA\\\\DPREPORT\\\\DPR_FIMPRCESSAMENTO\\\\'}, {'ID': '3060', 'Nome': 'Cliente-FATURA-2VIA-DPREPORT-FIMPROCESSAMENTO', 'PastaOrigem': 'E:\\\\PRODUCAO\\\\Cliente\\\\FATURA_2VIA\\\\DPREPORT\\\\DPR_FIMPRCESSAMENTO\\\\', 'PastaDestino': '', 'PastaBackup': 'E:\\\\PRODUCAO\\\\Cliente\\\\FATURA_2VIA\\\\DPREPORT\\\\DPR_INDEXAR_DADOS_ANALITICO\\\\'}, {'ID': '3061', 'Nome': 'Cliente-FATURA-2VIA-DPREPORT-INDEXAR-DADOS-ANALITICO', 'PastaOrigem': 'E:\\\\PRODUCAO\\\\Cliente\\\\FATURA_2VIA\\\\DPREPORT\\\\DPR_INDEXAR_DADOS_ANALITICO\\\\', 'PastaDestino': '', 'PastaBackup': 'E:\\\\PRODUCAO\\\\Cliente\\\\FATURA_2VIA\\\\PROCESSADOS\\\\'}, {'ID': '3062', 'Nome': 'Cliente-FATURA-DPREPORT-INDEXAR DADOS ANALITICO', 'PastaOrigem': 'E:\\\\PRODUCAO\\\\Cliente\\\\FATURA\\\\DPREPORT\\\\DPR_INDEXAR_DADOS_ANALITICO\\\\', 'PastaDestino': '', 'PastaBackup': 'E:\\\\PRODUCAO\\\\Cliente\\\\FATURA\\\\PROCESSADOS\\\\'}, {'ID': '3063', 'Nome': 'Cliente-FATURA-DVA-FILE-UPLOAD', 'PastaOrigem': '\\\\\\\\FT002\\\\PARCEIROS\\\\Cliente\\\\PRD\\\\DOWNLOAD\\\\', 'PastaDestino': ' ', 'PastaBackup': 'E:\\\\PRODUCAO\\\\Cliente\\\\FATURA\\\\ARMAZEM\\\\'}, {'ID': '3064', 'Nome': 'Cliente-FATURA-ACTION-EMAIL 2a VIA', 'PastaOrigem': 'E:\\\\PRODUCAO\\\\Cliente\\\\FATURA\\\\ACTION\\\\ENTRADA\\\\', 'PastaDestino': ' ', 'PastaBackup': 'E:\\\\PRODUCAO\\\\Cliente\\\\FATURA\\\\CARGA_ECM\\\\'}]\n"
     ]
    }
   ],
   "source": [
    "data = []\n",
    "with open('base.csv', 'r') as file:\n",
    "    reader = csv.reader(file)\n",
    "    next(reader)  # Skip the header\n",
    "    for row in reader:\n",
    "        labels = row[0].split(';')  # Split by delimiter\n",
    "        row_dict = {'ID': labels[0],\n",
    "                    'Nome': labels[1],\n",
    "                    'PastaOrigem': labels[2],\n",
    "                    'PastaDestino': labels[3],\n",
    "                    'PastaBackup': labels[4]}  # Create dictionary\n",
    "        data.append(row_dict)\n",
    "print(data)"
   ]
  },
  {
   "cell_type": "code",
   "execution_count": 67,
   "id": "c5e8251d-4f53-4cd8-9ccc-8d660afe171c",
   "metadata": {
    "tags": []
   },
   "outputs": [
    {
     "name": "stdout",
     "output_type": "stream",
     "text": [
      "ID repetido encontrado: 3036\n",
      "A pasta de origem é igual à pasta de backup. ID: 3046\n"
     ]
    }
   ],
   "source": [
    "\n",
    "def verifica_dados(dataset):  \n",
    "    pastas_origem = []\n",
    "    pastas_destino = []\n",
    "    pastas_backup = []\n",
    "    ids_vistos = set()  # Conjunto para armazenar IDs únicos\n",
    "    dados_limpos = []\n",
    "    for row in dataset:\n",
    "        # Limpa as entradas\n",
    "        id_ = row['ID'].strip()  # Renomeado para 'id_' para evitar conflito com a função id() do Python\n",
    "        pasta_origem = row['PastaOrigem'].strip()\n",
    "        pasta_destino = row['PastaDestino'].strip()\n",
    "        pasta_backup = row['PastaBackup'].strip()\n",
    "        \n",
    "        # Verifica IDs repetidos\n",
    "        if id_ in ids_vistos:\n",
    "            print(f\"ID repetido encontrado: {id_}\")\n",
    "        else:\n",
    "            ids_vistos.add(id_)\n",
    "            # Adiciona os dados limpos à lista de dados\n",
    "            dados_limpos.append(row)\n",
    "        \n",
    "        # Verifica se origem = destino/backup\n",
    "        if pasta_origem == pasta_destino:\n",
    "            print(f\"A pasta de origem é igual à pasta de destino. ID: {id_}\")\n",
    "        \n",
    "        if pasta_origem == pasta_backup:\n",
    "            print(f\"A pasta de origem é igual à pasta de backup. ID: {id_}\")   \n",
    "        \n",
    "        pastas_origem.append(pasta_origem)\n",
    "        pastas_destino.append(pasta_destino)\n",
    "        pastas_backup.append(pasta_backup)\n",
    "    \n",
    "    return dados_limpos\n",
    "\n",
    "\n",
    "dados_verificados = verifica_dados(data)"
   ]
  },
  {
   "cell_type": "code",
   "execution_count": 39,
   "id": "53cbb3b6-f1cb-444d-aa5c-514a2776d56c",
   "metadata": {
    "tags": []
   },
   "outputs": [
    {
     "name": "stdout",
     "output_type": "stream",
     "text": [
      "Os dados limpos foram escritos com sucesso no arquivo 'dados_limpos.csv'.\n"
     ]
    }
   ],
   "source": [
    "with open('dados_limpos.csv', 'w', newline='') as file:\n",
    "    writer = csv.DictWriter(file, fieldnames=dados_verificados[0].keys())\n",
    "    writer.writeheader()\n",
    "    writer.writerows(dados_verificados)\n",
    "\n",
    "print(\"Os dados limpos foram escritos com sucesso no arquivo 'dados_limpos.csv'.\")"
   ]
  },
  {
   "cell_type": "code",
   "execution_count": null,
   "id": "6f443ac2-2555-47b2-a432-ade5bd151298",
   "metadata": {},
   "outputs": [],
   "source": []
  }
 ],
 "metadata": {
  "kernelspec": {
   "display_name": "Python 3 (ipykernel)",
   "language": "python",
   "name": "python3"
  },
  "language_info": {
   "codemirror_mode": {
    "name": "ipython",
    "version": 3
   },
   "file_extension": ".py",
   "mimetype": "text/x-python",
   "name": "python",
   "nbconvert_exporter": "python",
   "pygments_lexer": "ipython3",
   "version": "3.11.7"
  }
 },
 "nbformat": 4,
 "nbformat_minor": 5
}
